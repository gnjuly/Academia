{
 "cells": [
  {
   "cell_type": "code",
   "execution_count": 1,
   "metadata": {},
   "outputs": [],
   "source": [
    "import mysql.connector as connection\n",
    "import pandas as pd\n",
    "import pymysql\n",
    "import random"
   ]
  },
  {
   "cell_type": "code",
   "execution_count": 2,
   "metadata": {},
   "outputs": [],
   "source": [
    "# PARA CONECTAR CUALQUIER BD RELACIONALES\n",
    "usuario = 'root'        # completar usuario (dato Workbench)\n",
    "contra = 'root'         # completar contraseña  (dato Workbench)\n",
    "dominio = 'localhost'   # completar dominio (dato Workbench)\n",
    "puerto = '3306'         # completar puerto (dato Workbench)\n",
    "db = 'academia'"
   ]
  },
  {
   "cell_type": "code",
   "execution_count": 3,
   "metadata": {},
   "outputs": [],
   "source": [
    "conn = pymysql.connect(host = dominio, user = usuario, passwd = contra, db = db)"
   ]
  },
  {
   "cell_type": "code",
   "execution_count": 4,
   "metadata": {},
   "outputs": [],
   "source": [
    "cur = conn.cursor()"
   ]
  },
  {
   "cell_type": "code",
   "execution_count": 5,
   "metadata": {},
   "outputs": [],
   "source": [
    "# VALORES TABLA ALUMNO\n",
    "\n",
    "# Extracción datos de excel\n",
    "df_alumno = pd.read_excel(\"datos.xlsx\",sheet_name = \"alumnos\")\n",
    "nombre_alumnos = df_alumno['nombre'].values\n",
    "apellido_alumnos = df_alumno['apellido'].values\n",
    "\n",
    "\n",
    "# Lista de tuplas con los valores de alumnos\n",
    "alumnos = list()\n",
    "count = 1\n",
    "tlf_ant = 637830001\n",
    "\n",
    "while count!= 100:\n",
    "    tlf = tlf_ant+3\n",
    "    tupla_alumnos = tuple()\n",
    "    if count <= 25:\n",
    "        tupla_alumnos = (count, random.choice(nombre_alumnos), random.choice(apellido_alumnos), tlf, '2019-09-10', '2020-06-15')\n",
    "    elif 25 < count <= 50:\n",
    "        tupla_alumnos = (count, random.choice(nombre_alumnos), random.choice(apellido_alumnos), tlf, '2020-09-10', '2021-06-15')\n",
    "    elif 50 < count <= 75:\n",
    "        tupla_alumnos = (count, random.choice(nombre_alumnos), random.choice(apellido_alumnos), tlf, '2021-09-10', '2022-06-15')\n",
    "    else:\n",
    "        tupla_alumnos = (count, random.choice(nombre_alumnos), random.choice(apellido_alumnos), tlf, '2022-09-10', None)\n",
    "    tlf_ant = tlf\n",
    "    alumnos.append(tupla_alumnos)\n",
    "    count += 1"
   ]
  },
  {
   "cell_type": "code",
   "execution_count": 6,
   "metadata": {},
   "outputs": [
    {
     "ename": "IntegrityError",
     "evalue": "(1062, \"Duplicate entry '1' for key 'alumno.PRIMARY'\")",
     "output_type": "error",
     "traceback": [
      "\u001b[1;31m---------------------------------------------------------------------------\u001b[0m",
      "\u001b[1;31mIntegrityError\u001b[0m                            Traceback (most recent call last)",
      "Cell \u001b[1;32mIn [6], line 4\u001b[0m\n\u001b[0;32m      1\u001b[0m \u001b[39m# CARGA DE VALORES ALUMNO\u001b[39;00m\n\u001b[0;32m      3\u001b[0m operacion \u001b[39m=\u001b[39m \u001b[39m'\u001b[39m\u001b[39mINSERT INTO alumno (alumno_id, nombre, apellido, telefono, fecha_alta, fecha_baja) VALUES (\u001b[39m\u001b[39m%s\u001b[39;00m\u001b[39m, \u001b[39m\u001b[39m%s\u001b[39;00m\u001b[39m, \u001b[39m\u001b[39m%s\u001b[39;00m\u001b[39m, \u001b[39m\u001b[39m%s\u001b[39;00m\u001b[39m, \u001b[39m\u001b[39m%s\u001b[39;00m\u001b[39m, \u001b[39m\u001b[39m%s\u001b[39;00m\u001b[39m)\u001b[39m\u001b[39m'\u001b[39m\n\u001b[1;32m----> 4\u001b[0m cur\u001b[39m.\u001b[39;49mexecutemany(operacion, alumnos)\n\u001b[0;32m      5\u001b[0m conn\u001b[39m.\u001b[39mcommit()\n",
      "File \u001b[1;32mc:\\Users\\Ranchos\\AppData\\Local\\Programs\\Python\\Python310\\lib\\site-packages\\pymysql\\cursors.py:173\u001b[0m, in \u001b[0;36mCursor.executemany\u001b[1;34m(self, query, args)\u001b[0m\n\u001b[0;32m    171\u001b[0m     q_postfix \u001b[39m=\u001b[39m m\u001b[39m.\u001b[39mgroup(\u001b[39m3\u001b[39m) \u001b[39mor\u001b[39;00m \u001b[39m\"\u001b[39m\u001b[39m\"\u001b[39m\n\u001b[0;32m    172\u001b[0m     \u001b[39massert\u001b[39;00m q_values[\u001b[39m0\u001b[39m] \u001b[39m==\u001b[39m \u001b[39m\"\u001b[39m\u001b[39m(\u001b[39m\u001b[39m\"\u001b[39m \u001b[39mand\u001b[39;00m q_values[\u001b[39m-\u001b[39m\u001b[39m1\u001b[39m] \u001b[39m==\u001b[39m \u001b[39m\"\u001b[39m\u001b[39m)\u001b[39m\u001b[39m\"\u001b[39m\n\u001b[1;32m--> 173\u001b[0m     \u001b[39mreturn\u001b[39;00m \u001b[39mself\u001b[39;49m\u001b[39m.\u001b[39;49m_do_execute_many(\n\u001b[0;32m    174\u001b[0m         q_prefix,\n\u001b[0;32m    175\u001b[0m         q_values,\n\u001b[0;32m    176\u001b[0m         q_postfix,\n\u001b[0;32m    177\u001b[0m         args,\n\u001b[0;32m    178\u001b[0m         \u001b[39mself\u001b[39;49m\u001b[39m.\u001b[39;49mmax_stmt_length,\n\u001b[0;32m    179\u001b[0m         \u001b[39mself\u001b[39;49m\u001b[39m.\u001b[39;49m_get_db()\u001b[39m.\u001b[39;49mencoding,\n\u001b[0;32m    180\u001b[0m     )\n\u001b[0;32m    182\u001b[0m \u001b[39mself\u001b[39m\u001b[39m.\u001b[39mrowcount \u001b[39m=\u001b[39m \u001b[39msum\u001b[39m(\u001b[39mself\u001b[39m\u001b[39m.\u001b[39mexecute(query, arg) \u001b[39mfor\u001b[39;00m arg \u001b[39min\u001b[39;00m args)\n\u001b[0;32m    183\u001b[0m \u001b[39mreturn\u001b[39;00m \u001b[39mself\u001b[39m\u001b[39m.\u001b[39mrowcount\n",
      "File \u001b[1;32mc:\\Users\\Ranchos\\AppData\\Local\\Programs\\Python\\Python310\\lib\\site-packages\\pymysql\\cursors.py:211\u001b[0m, in \u001b[0;36mCursor._do_execute_many\u001b[1;34m(self, prefix, values, postfix, args, max_stmt_length, encoding)\u001b[0m\n\u001b[0;32m    209\u001b[0m         sql \u001b[39m+\u001b[39m\u001b[39m=\u001b[39m \u001b[39mb\u001b[39m\u001b[39m\"\u001b[39m\u001b[39m,\u001b[39m\u001b[39m\"\u001b[39m\n\u001b[0;32m    210\u001b[0m     sql \u001b[39m+\u001b[39m\u001b[39m=\u001b[39m v\n\u001b[1;32m--> 211\u001b[0m rows \u001b[39m+\u001b[39m\u001b[39m=\u001b[39m \u001b[39mself\u001b[39;49m\u001b[39m.\u001b[39;49mexecute(sql \u001b[39m+\u001b[39;49m postfix)\n\u001b[0;32m    212\u001b[0m \u001b[39mself\u001b[39m\u001b[39m.\u001b[39mrowcount \u001b[39m=\u001b[39m rows\n\u001b[0;32m    213\u001b[0m \u001b[39mreturn\u001b[39;00m rows\n",
      "File \u001b[1;32mc:\\Users\\Ranchos\\AppData\\Local\\Programs\\Python\\Python310\\lib\\site-packages\\pymysql\\cursors.py:148\u001b[0m, in \u001b[0;36mCursor.execute\u001b[1;34m(self, query, args)\u001b[0m\n\u001b[0;32m    144\u001b[0m     \u001b[39mpass\u001b[39;00m\n\u001b[0;32m    146\u001b[0m query \u001b[39m=\u001b[39m \u001b[39mself\u001b[39m\u001b[39m.\u001b[39mmogrify(query, args)\n\u001b[1;32m--> 148\u001b[0m result \u001b[39m=\u001b[39m \u001b[39mself\u001b[39;49m\u001b[39m.\u001b[39;49m_query(query)\n\u001b[0;32m    149\u001b[0m \u001b[39mself\u001b[39m\u001b[39m.\u001b[39m_executed \u001b[39m=\u001b[39m query\n\u001b[0;32m    150\u001b[0m \u001b[39mreturn\u001b[39;00m result\n",
      "File \u001b[1;32mc:\\Users\\Ranchos\\AppData\\Local\\Programs\\Python\\Python310\\lib\\site-packages\\pymysql\\cursors.py:310\u001b[0m, in \u001b[0;36mCursor._query\u001b[1;34m(self, q)\u001b[0m\n\u001b[0;32m    308\u001b[0m \u001b[39mself\u001b[39m\u001b[39m.\u001b[39m_last_executed \u001b[39m=\u001b[39m q\n\u001b[0;32m    309\u001b[0m \u001b[39mself\u001b[39m\u001b[39m.\u001b[39m_clear_result()\n\u001b[1;32m--> 310\u001b[0m conn\u001b[39m.\u001b[39;49mquery(q)\n\u001b[0;32m    311\u001b[0m \u001b[39mself\u001b[39m\u001b[39m.\u001b[39m_do_get_result()\n\u001b[0;32m    312\u001b[0m \u001b[39mreturn\u001b[39;00m \u001b[39mself\u001b[39m\u001b[39m.\u001b[39mrowcount\n",
      "File \u001b[1;32mc:\\Users\\Ranchos\\AppData\\Local\\Programs\\Python\\Python310\\lib\\site-packages\\pymysql\\connections.py:548\u001b[0m, in \u001b[0;36mConnection.query\u001b[1;34m(self, sql, unbuffered)\u001b[0m\n\u001b[0;32m    546\u001b[0m     sql \u001b[39m=\u001b[39m sql\u001b[39m.\u001b[39mencode(\u001b[39mself\u001b[39m\u001b[39m.\u001b[39mencoding, \u001b[39m\"\u001b[39m\u001b[39msurrogateescape\u001b[39m\u001b[39m\"\u001b[39m)\n\u001b[0;32m    547\u001b[0m \u001b[39mself\u001b[39m\u001b[39m.\u001b[39m_execute_command(COMMAND\u001b[39m.\u001b[39mCOM_QUERY, sql)\n\u001b[1;32m--> 548\u001b[0m \u001b[39mself\u001b[39m\u001b[39m.\u001b[39m_affected_rows \u001b[39m=\u001b[39m \u001b[39mself\u001b[39;49m\u001b[39m.\u001b[39;49m_read_query_result(unbuffered\u001b[39m=\u001b[39;49munbuffered)\n\u001b[0;32m    549\u001b[0m \u001b[39mreturn\u001b[39;00m \u001b[39mself\u001b[39m\u001b[39m.\u001b[39m_affected_rows\n",
      "File \u001b[1;32mc:\\Users\\Ranchos\\AppData\\Local\\Programs\\Python\\Python310\\lib\\site-packages\\pymysql\\connections.py:775\u001b[0m, in \u001b[0;36mConnection._read_query_result\u001b[1;34m(self, unbuffered)\u001b[0m\n\u001b[0;32m    773\u001b[0m \u001b[39melse\u001b[39;00m:\n\u001b[0;32m    774\u001b[0m     result \u001b[39m=\u001b[39m MySQLResult(\u001b[39mself\u001b[39m)\n\u001b[1;32m--> 775\u001b[0m     result\u001b[39m.\u001b[39;49mread()\n\u001b[0;32m    776\u001b[0m \u001b[39mself\u001b[39m\u001b[39m.\u001b[39m_result \u001b[39m=\u001b[39m result\n\u001b[0;32m    777\u001b[0m \u001b[39mif\u001b[39;00m result\u001b[39m.\u001b[39mserver_status \u001b[39mis\u001b[39;00m \u001b[39mnot\u001b[39;00m \u001b[39mNone\u001b[39;00m:\n",
      "File \u001b[1;32mc:\\Users\\Ranchos\\AppData\\Local\\Programs\\Python\\Python310\\lib\\site-packages\\pymysql\\connections.py:1156\u001b[0m, in \u001b[0;36mMySQLResult.read\u001b[1;34m(self)\u001b[0m\n\u001b[0;32m   1154\u001b[0m \u001b[39mdef\u001b[39;00m \u001b[39mread\u001b[39m(\u001b[39mself\u001b[39m):\n\u001b[0;32m   1155\u001b[0m     \u001b[39mtry\u001b[39;00m:\n\u001b[1;32m-> 1156\u001b[0m         first_packet \u001b[39m=\u001b[39m \u001b[39mself\u001b[39;49m\u001b[39m.\u001b[39;49mconnection\u001b[39m.\u001b[39;49m_read_packet()\n\u001b[0;32m   1158\u001b[0m         \u001b[39mif\u001b[39;00m first_packet\u001b[39m.\u001b[39mis_ok_packet():\n\u001b[0;32m   1159\u001b[0m             \u001b[39mself\u001b[39m\u001b[39m.\u001b[39m_read_ok_packet(first_packet)\n",
      "File \u001b[1;32mc:\\Users\\Ranchos\\AppData\\Local\\Programs\\Python\\Python310\\lib\\site-packages\\pymysql\\connections.py:725\u001b[0m, in \u001b[0;36mConnection._read_packet\u001b[1;34m(self, packet_type)\u001b[0m\n\u001b[0;32m    723\u001b[0m     \u001b[39mif\u001b[39;00m \u001b[39mself\u001b[39m\u001b[39m.\u001b[39m_result \u001b[39mis\u001b[39;00m \u001b[39mnot\u001b[39;00m \u001b[39mNone\u001b[39;00m \u001b[39mand\u001b[39;00m \u001b[39mself\u001b[39m\u001b[39m.\u001b[39m_result\u001b[39m.\u001b[39munbuffered_active \u001b[39mis\u001b[39;00m \u001b[39mTrue\u001b[39;00m:\n\u001b[0;32m    724\u001b[0m         \u001b[39mself\u001b[39m\u001b[39m.\u001b[39m_result\u001b[39m.\u001b[39munbuffered_active \u001b[39m=\u001b[39m \u001b[39mFalse\u001b[39;00m\n\u001b[1;32m--> 725\u001b[0m     packet\u001b[39m.\u001b[39;49mraise_for_error()\n\u001b[0;32m    726\u001b[0m \u001b[39mreturn\u001b[39;00m packet\n",
      "File \u001b[1;32mc:\\Users\\Ranchos\\AppData\\Local\\Programs\\Python\\Python310\\lib\\site-packages\\pymysql\\protocol.py:221\u001b[0m, in \u001b[0;36mMysqlPacket.raise_for_error\u001b[1;34m(self)\u001b[0m\n\u001b[0;32m    219\u001b[0m \u001b[39mif\u001b[39;00m DEBUG:\n\u001b[0;32m    220\u001b[0m     \u001b[39mprint\u001b[39m(\u001b[39m\"\u001b[39m\u001b[39merrno =\u001b[39m\u001b[39m\"\u001b[39m, errno)\n\u001b[1;32m--> 221\u001b[0m err\u001b[39m.\u001b[39;49mraise_mysql_exception(\u001b[39mself\u001b[39;49m\u001b[39m.\u001b[39;49m_data)\n",
      "File \u001b[1;32mc:\\Users\\Ranchos\\AppData\\Local\\Programs\\Python\\Python310\\lib\\site-packages\\pymysql\\err.py:143\u001b[0m, in \u001b[0;36mraise_mysql_exception\u001b[1;34m(data)\u001b[0m\n\u001b[0;32m    141\u001b[0m \u001b[39mif\u001b[39;00m errorclass \u001b[39mis\u001b[39;00m \u001b[39mNone\u001b[39;00m:\n\u001b[0;32m    142\u001b[0m     errorclass \u001b[39m=\u001b[39m InternalError \u001b[39mif\u001b[39;00m errno \u001b[39m<\u001b[39m \u001b[39m1000\u001b[39m \u001b[39melse\u001b[39;00m OperationalError\n\u001b[1;32m--> 143\u001b[0m \u001b[39mraise\u001b[39;00m errorclass(errno, errval)\n",
      "\u001b[1;31mIntegrityError\u001b[0m: (1062, \"Duplicate entry '1' for key 'alumno.PRIMARY'\")"
     ]
    }
   ],
   "source": [
    "# CARGA DE VALORES ALUMNO\n",
    "\n",
    "operacion = 'INSERT INTO alumno (alumno_id, nombre, apellido, telefono, fecha_alta, fecha_baja) VALUES (%s, %s, %s, %s, %s, %s)'\n",
    "cur.executemany(operacion, alumnos)\n",
    "conn.commit()"
   ]
  },
  {
   "cell_type": "code",
   "execution_count": null,
   "metadata": {},
   "outputs": [
    {
     "data": {
      "text/plain": [
       "[(1,\n",
       "  'Paula',\n",
       "  'Lopez Alonso',\n",
       "  'paula.lopezalonso@academia.com',\n",
       "  '2019-09-10',\n",
       "  '2020-06-15'),\n",
       " (2,\n",
       "  'Alejandro',\n",
       "  'Lopez Alonso',\n",
       "  'alejandro.lopezalonso@academia.com',\n",
       "  '2019-09-10',\n",
       "  '2020-06-15'),\n",
       " (3,\n",
       "  'Almudena',\n",
       "  'Roble del Amo',\n",
       "  'almudena.robledelamo@academia.com',\n",
       "  '2019-09-10',\n",
       "  '2020-06-15'),\n",
       " (4,\n",
       "  'Alejandro',\n",
       "  'Lopez Alonso',\n",
       "  'alejandro.lopezalonso@academia.com',\n",
       "  '2019-09-10',\n",
       "  '2020-06-15'),\n",
       " (5,\n",
       "  'Almudena',\n",
       "  'Gomez de Robledo',\n",
       "  'almudena.gomezderobledo@academia.com',\n",
       "  '2019-09-10',\n",
       "  '2020-06-15'),\n",
       " (6,\n",
       "  'Aurora',\n",
       "  'Romero Garcia',\n",
       "  'aurora.romerogarcia@academia.com',\n",
       "  '2019-09-10',\n",
       "  '2020-06-15'),\n",
       " (7,\n",
       "  'Alejandro',\n",
       "  'Garcia Noble',\n",
       "  'alejandro.garcianoble@academia.com',\n",
       "  '2019-09-10',\n",
       "  '2020-06-15'),\n",
       " (8,\n",
       "  'Paula',\n",
       "  'Romero Garcia',\n",
       "  'paula.romerogarcia@academia.com',\n",
       "  '2019-09-10',\n",
       "  '2020-06-15'),\n",
       " (9,\n",
       "  'Almudena',\n",
       "  'Gomez de Robledo',\n",
       "  'almudena.gomezderobledo@academia.com',\n",
       "  '2019-09-10',\n",
       "  '2020-06-15'),\n",
       " (10,\n",
       "  'Fernando',\n",
       "  'Romero Garcia',\n",
       "  'fernando.romerogarcia@academia.com',\n",
       "  '2019-09-10',\n",
       "  '2020-06-15'),\n",
       " (11,\n",
       "  'Alejandro',\n",
       "  'Roble del Amo',\n",
       "  'alejandro.robledelamo@academia.com',\n",
       "  '2019-09-10',\n",
       "  '2020-06-15'),\n",
       " (12,\n",
       "  'Alejandro',\n",
       "  'Diaz Serrano',\n",
       "  'alejandro.diazserrano@academia.com',\n",
       "  '2019-09-10',\n",
       "  '2020-06-15'),\n",
       " (13,\n",
       "  'Paula',\n",
       "  'Gomez de Robledo',\n",
       "  'paula.gomezderobledo@academia.com',\n",
       "  '2019-09-10',\n",
       "  '2020-06-15'),\n",
       " (14,\n",
       "  'Alejandro',\n",
       "  'Diaz Serrano',\n",
       "  'alejandro.diazserrano@academia.com',\n",
       "  '2019-09-10',\n",
       "  '2020-06-15'),\n",
       " (15,\n",
       "  'Pablo',\n",
       "  'Diaz Serrano',\n",
       "  'pablo.diazserrano@academia.com',\n",
       "  '2019-09-10',\n",
       "  '2020-06-15'),\n",
       " (16,\n",
       "  'Fernando',\n",
       "  'Diaz Serrano',\n",
       "  'fernando.diazserrano@academia.com',\n",
       "  '2019-09-10',\n",
       "  '2020-06-15'),\n",
       " (17,\n",
       "  'Pablo',\n",
       "  'Lopez Alonso',\n",
       "  'pablo.lopezalonso@academia.com',\n",
       "  '2019-09-10',\n",
       "  '2020-06-15'),\n",
       " (18,\n",
       "  'Alejandro',\n",
       "  'Gomez de Robledo',\n",
       "  'alejandro.gomezderobledo@academia.com',\n",
       "  '2019-09-10',\n",
       "  '2020-06-15'),\n",
       " (19,\n",
       "  'Paula',\n",
       "  'Lopez Alonso',\n",
       "  'paula.lopezalonso@academia.com',\n",
       "  '2019-09-10',\n",
       "  '2020-06-15')]"
      ]
     },
     "execution_count": 7,
     "metadata": {},
     "output_type": "execute_result"
    }
   ],
   "source": [
    "# VALORES TABLA PROFESOR\n",
    "\n",
    "# Extracción datos de excel\n",
    "df_profesor = pd.read_excel(\"datos.xlsx\",sheet_name = \"profesores\")\n",
    "nombre_profesores = df_profesor['nombre'].values\n",
    "apellido_profesores = df_profesor['apellido'].values\n",
    "\n",
    "# Lista de tuplas con los valores de profesores\n",
    "profesores = list()\n",
    "count = 1\n",
    "\n",
    "while count!= 20:\n",
    "    tupla_profesores = tuple()\n",
    "    nombre = random.choice(nombre_profesores)\n",
    "    apellido = random.choice(apellido_profesores)\n",
    "    mail = nombre.replace(' ','').lower() + '.' + apellido.replace(' ','').lower() + '@academia.com'\n",
    "    if count <= 25:\n",
    "        tupla_profesores = (count, nombre, apellido, mail, '2019-09-10', '2020-06-15')\n",
    "    elif 25 < count <= 50:\n",
    "        tupla_profesores = (count, nombre, apellido, mail, '2020-09-10', '2021-06-15')\n",
    "    elif 50 < count <= 75:\n",
    "        tupla_profesores = (count, nombre, apellido, mail, '2021-09-10', '2022-06-15')\n",
    "    else:\n",
    "        tupla_profesores = (count, nombre, apellido, mail, '2022-09-10', None)\n",
    "    profesores.append(tupla_profesores)\n",
    "    count += 1"
   ]
  },
  {
   "cell_type": "code",
   "execution_count": null,
   "metadata": {},
   "outputs": [],
   "source": [
    "# CARGA DE VALORES PROFESOR\n",
    "\n",
    "operacion = 'INSERT INTO profesor (profesor_id, nombre, apellido, mail, fecha_alta, fecha_baja) VALUES (%s, %s, %s, %s, %s, %s)'\n",
    "cur.executemany(operacion, profesores)\n",
    "conn.commit()"
   ]
  },
  {
   "cell_type": "code",
   "execution_count": null,
   "metadata": {},
   "outputs": [
    {
     "data": {
      "text/plain": [
       "[(1, 'LENGUA', '2021-09-10', '2022-06-15'),\n",
       " (2, 'MATEMATICAS', '2021-09-10', '2022-06-15'),\n",
       " (3, 'FILOSOFIA', '2021-09-10', '2022-06-15'),\n",
       " (4, 'HISTORIA', '2021-09-10', '2022-06-15'),\n",
       " (5, 'PLASTICA', '2021-09-10', '2022-06-15'),\n",
       " (6, 'CIENCIAS NATURALES', '2021-09-10', '2022-06-15')]"
      ]
     },
     "execution_count": 9,
     "metadata": {},
     "output_type": "execute_result"
    }
   ],
   "source": [
    "# DATOS ASIGNATURAS\n",
    "\n",
    "asignatura = [(1,'LENGUA', '2021-09-10', '2022-06-15'),\n",
    "                (2,'MATEMATICAS', '2021-09-10', '2022-06-15'),\n",
    "                (3, 'FILOSOFIA', '2021-09-10', '2022-06-15'),\n",
    "                (4, 'HISTORIA', '2021-09-10', '2022-06-15'),\n",
    "                (5, 'PLASTICA', '2021-09-10', '2022-06-15'),\n",
    "                (6, 'CIENCIAS NATURALES', '2021-09-10', '2022-06-15')\n",
    "                ]"
   ]
  },
  {
   "cell_type": "code",
   "execution_count": null,
   "metadata": {},
   "outputs": [],
   "source": [
    "# CARGA DATOS ASIGNATURAS\n",
    "\n",
    "operacion = 'INSERT INTO asignatura (asignatura_id, nombre, fecha_inicio, fecha_fin) VALUES (%s, %s, %s, %s)'\n",
    "cur.executemany(operacion, asignatura)\n",
    "conn.commit()"
   ]
  },
  {
   "cell_type": "code",
   "execution_count": null,
   "metadata": {},
   "outputs": [
    {
     "data": {
      "text/plain": [
       "[(1, 79, 1, 6),\n",
       " (2, 57, 1, 9),\n",
       " (3, 43, 1, 5),\n",
       " (4, 40, 1, 8),\n",
       " (5, 69, 1, 2),\n",
       " (6, 35, 1, 1),\n",
       " (7, 47, 1, 7),\n",
       " (8, 7, 1, 10),\n",
       " (9, 69, 1, 1),\n",
       " (10, 33, 1, 4),\n",
       " (11, 99, 1, 3),\n",
       " (12, 73, 1, 9),\n",
       " (13, 32, 1, 10),\n",
       " (14, 19, 1, 5),\n",
       " (15, 90, 1, 7),\n",
       " (16, 57, 1, 2),\n",
       " (17, 39, 1, 2),\n",
       " (18, 72, 1, 2),\n",
       " (19, 67, 1, 5),\n",
       " (20, 89, 1, 2),\n",
       " (21, 97, 2, 9),\n",
       " (22, 48, 2, 10),\n",
       " (23, 8, 2, 4),\n",
       " (24, 29, 2, 4),\n",
       " (25, 93, 2, 8),\n",
       " (26, 97, 2, 6),\n",
       " (27, 29, 2, 2),\n",
       " (28, 65, 2, 8),\n",
       " (29, 42, 2, 6),\n",
       " (30, 80, 2, 5),\n",
       " (31, 38, 2, 2),\n",
       " (32, 94, 2, 3),\n",
       " (33, 81, 2, 3),\n",
       " (34, 80, 2, 3),\n",
       " (35, 80, 2, 10),\n",
       " (36, 85, 2, 5),\n",
       " (37, 81, 2, 3),\n",
       " (38, 36, 2, 5),\n",
       " (39, 58, 2, 2),\n",
       " (40, 90, 2, 5),\n",
       " (41, 31, 3, 2),\n",
       " (42, 83, 3, 5),\n",
       " (43, 8, 3, 7),\n",
       " (44, 21, 3, 6),\n",
       " (45, 89, 3, 6),\n",
       " (46, 40, 3, 6),\n",
       " (47, 43, 3, 9),\n",
       " (48, 70, 3, 1),\n",
       " (49, 38, 3, 3),\n",
       " (50, 25, 3, 5),\n",
       " (51, 23, 3, 1),\n",
       " (52, 73, 3, 3),\n",
       " (53, 13, 3, 7),\n",
       " (54, 79, 3, 9),\n",
       " (55, 18, 3, 3),\n",
       " (56, 21, 3, 10),\n",
       " (57, 25, 3, 9),\n",
       " (58, 27, 3, 7),\n",
       " (59, 81, 3, 4),\n",
       " (60, 60, 3, 6),\n",
       " (61, 43, 4, 6),\n",
       " (62, 30, 4, 1),\n",
       " (63, 50, 4, 2),\n",
       " (64, 32, 4, 3),\n",
       " (65, 31, 4, 9),\n",
       " (66, 23, 4, 4),\n",
       " (67, 16, 4, 3),\n",
       " (68, 74, 4, 2),\n",
       " (69, 1, 4, 6),\n",
       " (70, 91, 4, 2),\n",
       " (71, 11, 4, 6),\n",
       " (72, 31, 4, 9),\n",
       " (73, 76, 4, 2),\n",
       " (74, 56, 4, 10),\n",
       " (75, 24, 4, 9),\n",
       " (76, 44, 4, 3),\n",
       " (77, 61, 4, 2),\n",
       " (78, 16, 4, 6),\n",
       " (79, 1, 4, 2),\n",
       " (80, 92, 4, 7),\n",
       " (81, 37, 5, 5),\n",
       " (82, 64, 5, 8),\n",
       " (83, 73, 5, 1),\n",
       " (84, 90, 5, 3),\n",
       " (85, 60, 5, 10),\n",
       " (86, 50, 5, 1),\n",
       " (87, 11, 5, 7),\n",
       " (88, 23, 5, 3),\n",
       " (89, 28, 5, 5),\n",
       " (90, 17, 5, 5),\n",
       " (91, 1, 5, 1),\n",
       " (92, 13, 5, 2),\n",
       " (93, 85, 5, 10),\n",
       " (94, 56, 5, 9),\n",
       " (95, 87, 5, 5),\n",
       " (96, 49, 5, 4),\n",
       " (97, 68, 5, 6),\n",
       " (98, 10, 5, 6),\n",
       " (99, 58, 5, 7),\n",
       " (100, 24, 5, 8),\n",
       " (101, 33, 6, 5),\n",
       " (102, 1, 6, 9),\n",
       " (103, 89, 6, 5),\n",
       " (104, 94, 6, 9),\n",
       " (105, 55, 6, 1),\n",
       " (106, 67, 6, 5),\n",
       " (107, 86, 6, 4),\n",
       " (108, 5, 6, 9),\n",
       " (109, 71, 6, 2),\n",
       " (110, 23, 6, 1),\n",
       " (111, 79, 6, 1),\n",
       " (112, 17, 6, 4),\n",
       " (113, 39, 6, 10),\n",
       " (114, 12, 6, 4),\n",
       " (115, 53, 6, 4),\n",
       " (116, 57, 6, 6),\n",
       " (117, 96, 6, 8),\n",
       " (118, 75, 6, 2),\n",
       " (119, 30, 6, 7),\n",
       " (120, 76, 6, 3)]"
      ]
     },
     "execution_count": 11,
     "metadata": {},
     "output_type": "execute_result"
    }
   ],
   "source": [
    "# DATOS ASIG_ALUMNOS\n",
    "\n",
    "alumno_id = list()\n",
    "for i in alumnos:\n",
    "    alumno_id.append(i[0])\n",
    "\n",
    "asig_alumnos = list()\n",
    "count = 1\n",
    "for asig_ind in asignatura:\n",
    "    count_while = 1\n",
    "    while count_while <= 20:\n",
    "        tupla_asig_alum = (count, random.choice(alumno_id), asig_ind[0], random.randint(1,10))\n",
    "        count += 1\n",
    "        count_while += 1\n",
    "        asig_alumnos.append(tupla_asig_alum)"
   ]
  },
  {
   "cell_type": "code",
   "execution_count": null,
   "metadata": {},
   "outputs": [],
   "source": [
    "# CARGA DATOS ASIG_ALUMNOS\n",
    "\n",
    "operacion = 'INSERT INTO asig_alumno (asig_alumno_id, alumno_id, asignatura_id, nota) VALUES (%s, %s, %s, %s)'\n",
    "cur.executemany(operacion, asig_alumnos)\n",
    "conn.commit()"
   ]
  },
  {
   "cell_type": "code",
   "execution_count": null,
   "metadata": {},
   "outputs": [
    {
     "data": {
      "text/plain": [
       "[(1, 11, 1),\n",
       " (2, 18, 1),\n",
       " (3, 12, 2),\n",
       " (4, 2, 2),\n",
       " (5, 16, 3),\n",
       " (6, 2, 3),\n",
       " (7, 9, 4),\n",
       " (8, 9, 4),\n",
       " (9, 17, 5),\n",
       " (10, 13, 5),\n",
       " (11, 1, 6),\n",
       " (12, 14, 6)]"
      ]
     },
     "execution_count": 13,
     "metadata": {},
     "output_type": "execute_result"
    }
   ],
   "source": [
    "# DATOS ASIG_PROFESORES\n",
    "\n",
    "profesor_id = list()\n",
    "for i in profesores:\n",
    "    profesor_id.append(i[0])\n",
    "\n",
    "asig_profesores = list()\n",
    "count = 1\n",
    "for asig_ind in asignatura:\n",
    "    count_while = 1\n",
    "    while count_while <= 2:                # PONER UN 2 EN VEZ DE 20!!!!\n",
    "        tupla_asig_prof = (count, random.choice(profesor_id), asig_ind[0])\n",
    "        count += 1\n",
    "        count_while += 1\n",
    "        asig_profesores.append(tupla_asig_prof)"
   ]
  },
  {
   "cell_type": "code",
   "execution_count": null,
   "metadata": {},
   "outputs": [],
   "source": [
    "# CARGA DATOS ASIG_PROFESOR\n",
    "\n",
    "operacion = 'INSERT INTO asig_profesor (asig_profesor_id, profesor_id, asignatura_id) VALUES (%s, %s, %s)'\n",
    "cur.executemany(operacion, asig_profesores)\n",
    "conn.commit()"
   ]
  },
  {
   "cell_type": "code",
   "execution_count": null,
   "metadata": {},
   "outputs": [
    {
     "data": {
      "text/plain": [
       "[(1, '2022-05-15', 1),\n",
       " (2, '2022-05-15', 2),\n",
       " (3, '2022-05-15', 3),\n",
       " (4, '2022-05-15', 4),\n",
       " (5, '2022-05-15', 5),\n",
       " (6, '2022-05-15', 6)]"
      ]
     },
     "execution_count": 15,
     "metadata": {},
     "output_type": "execute_result"
    }
   ],
   "source": [
    "# DATOS EXAMEN\n",
    "\n",
    "examenes = list()\n",
    "count = 1\n",
    "for asig_ind in asignatura:\n",
    "    tupla_examen = (count,'2022-05-15', asig_ind[0])\n",
    "    count += 1\n",
    "    examenes.append(tupla_examen)"
   ]
  },
  {
   "cell_type": "code",
   "execution_count": null,
   "metadata": {},
   "outputs": [],
   "source": [
    "# CARGA DATOS EXAMEN\n",
    "\n",
    "operacion = 'INSERT INTO examen (examen_id, fecha_examen, asignatura_id) VALUES (%s, %s, %s)'\n",
    "cur.executemany(operacion, examenes)\n",
    "conn.commit()\n",
    "conn.close()"
   ]
  }
 ],
 "metadata": {
  "kernelspec": {
   "display_name": "Python 3.10.4 64-bit",
   "language": "python",
   "name": "python3"
  },
  "language_info": {
   "codemirror_mode": {
    "name": "ipython",
    "version": 3
   },
   "file_extension": ".py",
   "mimetype": "text/x-python",
   "name": "python",
   "nbconvert_exporter": "python",
   "pygments_lexer": "ipython3",
   "version": "3.10.4"
  },
  "orig_nbformat": 4,
  "vscode": {
   "interpreter": {
    "hash": "5b0dd0afae25dc38cdce0d2294250472deafc89a49f37739674ad720c91afe2b"
   }
  }
 },
 "nbformat": 4,
 "nbformat_minor": 2
}
