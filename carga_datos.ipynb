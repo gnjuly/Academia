{
 "cells": [
  {
   "cell_type": "code",
   "execution_count": 7,
   "metadata": {},
   "outputs": [],
   "source": [
    "import mysql.connector as connection\n",
    "import pandas as pd\n",
    "import pymysql\n",
    "import random"
   ]
  },
  {
   "cell_type": "code",
   "execution_count": 8,
   "metadata": {},
   "outputs": [],
   "source": [
    "# PARA CONECTAR CUALQUIER BD RELACIONALES\n",
    "usuario =  # completar usuario (dato Workbench)\n",
    "contra =   # completar contraseña  (dato Workbench)\n",
    "dominio =  # completar dominio (dato Workbench)\n",
    "puerto =   # completar puerto (dato Workbench)\n",
    "db = 'academia'"
   ]
  },
  {
   "cell_type": "code",
   "execution_count": 9,
   "metadata": {},
   "outputs": [],
   "source": [
    "conn = pymysql.connect(host = dominio, user = usuario, passwd = contra, db = db)"
   ]
  },
  {
   "cell_type": "code",
   "execution_count": 10,
   "metadata": {},
   "outputs": [],
   "source": [
    "cur = conn.cursor()"
   ]
  },
  {
   "cell_type": "code",
   "execution_count": 11,
   "metadata": {},
   "outputs": [],
   "source": [
    "# VALORES TABLA ALUMNO\n",
    "\n",
    "# Extracción datos de excel\n",
    "df_alumno = pd.read_excel(\"datos.xlsx\",sheet_name = \"alumnos\")\n",
    "nombre_alumnos = df_alumno['nombre'].values\n",
    "apellido_alumnos = df_alumno['apellido'].values\n",
    "\n",
    "\n",
    "# Lista de tuplas con los valores de alumnos\n",
    "alumnos = list()\n",
    "count = 1\n",
    "tlf_ant = 637830001\n",
    "\n",
    "while count!= 100:\n",
    "    tlf = tlf_ant+3\n",
    "    tupla_alumnos = tuple()\n",
    "    if count <= 25:\n",
    "        tupla_alumnos = (count, random.choice(nombre_alumnos), random.choice(apellido_alumnos), tlf, '2019-09-10', '2020-06-15')\n",
    "    elif 25 < count <= 50:\n",
    "        tupla_alumnos = (count, random.choice(nombre_alumnos), random.choice(apellido_alumnos), tlf, '2020-09-10', '2021-06-15')\n",
    "    elif 50 < count <= 75:\n",
    "        tupla_alumnos = (count, random.choice(nombre_alumnos), random.choice(apellido_alumnos), tlf, '2021-09-10', '2022-06-15')\n",
    "    else:\n",
    "        tupla_alumnos = (count, random.choice(nombre_alumnos), random.choice(apellido_alumnos), tlf, '2022-09-10', None)\n",
    "    tlf_ant = tlf\n",
    "    alumnos.append(tupla_alumnos)\n",
    "    count += 1"
   ]
  },
  {
   "cell_type": "code",
   "execution_count": 12,
   "metadata": {},
   "outputs": [],
   "source": [
    "# CARGA DE VALORES ALUMNO\n",
    "\n",
    "operacion = 'INSERT INTO alumno (alumno_id, nombre, apellido, telefono, fecha_alta, fecha_baja) VALUES (%s, %s, %s, %s, %s, %s)'\n",
    "cur.executemany(operacion, alumnos)\n",
    "conn.commit()"
   ]
  },
  {
   "cell_type": "code",
   "execution_count": 13,
   "metadata": {},
   "outputs": [],
   "source": [
    "# VALORES TABLA PROFESOR\n",
    "\n",
    "# Extracción datos de excel\n",
    "df_profesor = pd.read_excel(\"datos.xlsx\",sheet_name = \"profesores\")\n",
    "nombre_profesores = df_profesor['nombre'].values\n",
    "apellido_profesores = df_profesor['apellido'].values\n",
    "\n",
    "# Lista de tuplas con los valores de profesores\n",
    "profesores = list()\n",
    "count = 1\n",
    "\n",
    "while count!= 20:\n",
    "    tupla_profesores = tuple()\n",
    "    nombre = random.choice(nombre_profesores)\n",
    "    apellido = random.choice(apellido_profesores)\n",
    "    mail = nombre.replace(' ','').lower() + '.' + apellido.replace(' ','').lower() + '@academia.com'\n",
    "    if count <= 25:\n",
    "        tupla_profesores = (count, nombre, apellido, mail, '2019-09-10', '2020-06-15')\n",
    "    elif 25 < count <= 50:\n",
    "        tupla_profesores = (count, nombre, apellido, mail, '2020-09-10', '2021-06-15')\n",
    "    elif 50 < count <= 75:\n",
    "        tupla_profesores = (count, nombre, apellido, mail, '2021-09-10', '2022-06-15')\n",
    "    else:\n",
    "        tupla_profesores = (count, nombre, apellido, mail, '2022-09-10', None)\n",
    "    profesores.append(tupla_profesores)\n",
    "    count += 1"
   ]
  },
  {
   "cell_type": "code",
   "execution_count": 14,
   "metadata": {},
   "outputs": [],
   "source": [
    "# CARGA DE VALORES PROFESOR\n",
    "\n",
    "operacion = 'INSERT INTO profesor (profesor_id, nombre, apellido, mail, fecha_alta, fecha_baja) VALUES (%s, %s, %s, %s, %s, %s)'\n",
    "cur.executemany(operacion, profesores)\n",
    "conn.commit()"
   ]
  },
  {
   "cell_type": "code",
   "execution_count": 15,
   "metadata": {},
   "outputs": [],
   "source": [
    "# DATOS ASIGNATURAS\n",
    "\n",
    "asignatura = [(1,'LENGUA', '2021-09-10', '2022-06-15'),\n",
    "                (2,'MATEMATICAS', '2021-09-10', '2022-06-15'),\n",
    "                (3, 'FILOSOFIA', '2021-09-10', '2022-06-15'),\n",
    "                (4, 'HISTORIA', '2021-09-10', '2022-06-15'),\n",
    "                (5, 'PLASTICA', '2021-09-10', '2022-06-15'),\n",
    "                (6, 'CIENCIAS NATURALES', '2021-09-10', '2022-06-15')\n",
    "                ]"
   ]
  },
  {
   "cell_type": "code",
   "execution_count": 16,
   "metadata": {},
   "outputs": [],
   "source": [
    "# CARGA DATOS ASIGNATURAS\n",
    "\n",
    "operacion = 'INSERT INTO asignatura (asignatura_id, nombre, fecha_inicio, fecha_fin) VALUES (%s, %s, %s, %s)'\n",
    "cur.executemany(operacion, asignatura)\n",
    "conn.commit()"
   ]
  },
  {
   "cell_type": "code",
   "execution_count": 17,
   "metadata": {},
   "outputs": [],
   "source": [
    "# DATOS ASIG_ALUMNOS\n",
    "\n",
    "alumno_id = list()\n",
    "for i in alumnos:\n",
    "    alumno_id.append(i[0])\n",
    "\n",
    "asig_alumnos = list()\n",
    "count = 1\n",
    "for asig_ind in asignatura:\n",
    "    count_while = 1\n",
    "    while count_while <= 20:\n",
    "        tupla_asig_alum = (count, random.choice(alumno_id), asig_ind[0], random.randint(1,10))\n",
    "        count += 1\n",
    "        count_while += 1\n",
    "        asig_alumnos.append(tupla_asig_alum)"
   ]
  },
  {
   "cell_type": "code",
   "execution_count": 18,
   "metadata": {},
   "outputs": [],
   "source": [
    "# CARGA DATOS ASIG_ALUMNOS\n",
    "\n",
    "operacion = 'INSERT INTO asig_alumno (asig_alumno_id, alumno_id, asignatura_id, nota) VALUES (%s, %s, %s, %s)'\n",
    "cur.executemany(operacion, asig_alumnos)\n",
    "conn.commit()"
   ]
  },
  {
   "cell_type": "code",
   "execution_count": 19,
   "metadata": {},
   "outputs": [],
   "source": [
    "# DATOS ASIG_PROFESORES\n",
    "\n",
    "profesor_id = list()\n",
    "for i in profesores:\n",
    "    profesor_id.append(i[0])\n",
    "\n",
    "asig_profesores = list()\n",
    "count = 1\n",
    "for asig_ind in asignatura:\n",
    "    count_while = 1\n",
    "    while count_while <= 2:                # PONER UN 2 EN VEZ DE 20!!!!\n",
    "        tupla_asig_prof = (count, random.choice(profesor_id), asig_ind[0])\n",
    "        count += 1\n",
    "        count_while += 1\n",
    "        asig_profesores.append(tupla_asig_prof)"
   ]
  },
  {
   "cell_type": "code",
   "execution_count": 20,
   "metadata": {},
   "outputs": [],
   "source": [
    "# CARGA DATOS ASIG_PROFESOR\n",
    "\n",
    "operacion = 'INSERT INTO asig_profesor (asig_profesor_id, profesor_id, asignatura_id) VALUES (%s, %s, %s)'\n",
    "cur.executemany(operacion, asig_profesores)\n",
    "conn.commit()"
   ]
  },
  {
   "cell_type": "code",
   "execution_count": 21,
   "metadata": {},
   "outputs": [],
   "source": [
    "# DATOS EXAMEN\n",
    "\n",
    "examenes = list()\n",
    "count = 1\n",
    "for asig_ind in asignatura:\n",
    "    tupla_examen = (count,'2022-05-15', asig_ind[0])\n",
    "    count += 1\n",
    "    examenes.append(tupla_examen)"
   ]
  },
  {
   "cell_type": "code",
   "execution_count": 22,
   "metadata": {},
   "outputs": [],
   "source": [
    "# CARGA DATOS EXAMEN\n",
    "\n",
    "operacion = 'INSERT INTO examen (examen_id, fecha_examen, asignatura_id) VALUES (%s, %s, %s)'\n",
    "cur.executemany(operacion, examenes)\n",
    "conn.commit()\n",
    "conn.close()"
   ]
  }
 ],
 "metadata": {
  "kernelspec": {
   "display_name": "Python 3.10.4 64-bit",
   "language": "python",
   "name": "python3"
  },
  "language_info": {
   "codemirror_mode": {
    "name": "ipython",
    "version": 3
   },
   "file_extension": ".py",
   "mimetype": "text/x-python",
   "name": "python",
   "nbconvert_exporter": "python",
   "pygments_lexer": "ipython3",
   "version": "3.10.4"
  },
  "orig_nbformat": 4,
  "vscode": {
   "interpreter": {
    "hash": "5b0dd0afae25dc38cdce0d2294250472deafc89a49f37739674ad720c91afe2b"
   }
  }
 },
 "nbformat": 4,
 "nbformat_minor": 2
}
